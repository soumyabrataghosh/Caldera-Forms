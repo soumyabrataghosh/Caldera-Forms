{
  "nbformat": 4,
  "nbformat_minor": 0,
  "metadata": {
    "colab": {
      "name": "MADS/Loops.ipynb",
      "provenance": [],
      "collapsed_sections": [],
      "toc_visible": true,
      "authorship_tag": "ABX9TyPepK0O72G5kWGyrgSC/2NP",
      "include_colab_link": true
    },
    "kernelspec": {
      "name": "python3",
      "display_name": "Python 3"
    },
    "language_info": {
      "name": "python"
    }
  },
  "cells": [
    {
      "cell_type": "markdown",
      "metadata": {
        "id": "view-in-github",
        "colab_type": "text"
      },
      "source": [
        "<a href=\"https://colab.research.google.com/github/soumyabrataghosh/Caldera-Forms/blob/master/MADS_Loops.ipynb\" target=\"_parent\"><img src=\"https://colab.research.google.com/assets/colab-badge.svg\" alt=\"Open In Colab\"/></a>"
      ]
    },
    {
      "cell_type": "markdown",
      "metadata": {
        "id": "yP4ZA7CTPqI2"
      },
      "source": [
        "# 4. Python Loops\n",
        "\n",
        "- `for` loops are used to iterate over sequential input (list, array, string)\n",
        "- `while` loops are used in cases with no clarity of the iteration numbers, but to iterate till the condition statement is satisfied"
      ]
    },
    {
      "cell_type": "markdown",
      "metadata": {
        "id": "B61-eQj0lmaQ"
      },
      "source": [
        "\n",
        "\n",
        "---\n",
        "\n",
        "\n",
        "# `for` Loop\n",
        "```\n",
        "for <temporary variable> in <list variable>:\n",
        "  <action statement>\n",
        "  <action statement>\n",
        "```\n",
        "\n"
      ]
    },
    {
      "cell_type": "code",
      "metadata": {
        "colab": {
          "base_uri": "https://localhost:8080/"
        },
        "id": "hz2KI_L3k513",
        "outputId": "8727d41c-158d-4268-9230-7c2597430aa8"
      },
      "source": [
        "#each num in nums will be printed below\n",
        "nums = [1,2,3,4,5]\n",
        "for num in nums: \n",
        "  print(num)"
      ],
      "execution_count": null,
      "outputs": [
        {
          "output_type": "stream",
          "name": "stdout",
          "text": [
            "1\n",
            "2\n",
            "3\n",
            "4\n",
            "5\n"
          ]
        }
      ]
    },
    {
      "cell_type": "markdown",
      "metadata": {
        "id": "kwvnG6CCmHFy"
      },
      "source": [
        "## Loops with range()\n"
      ]
    },
    {
      "cell_type": "code",
      "metadata": {
        "id": "fteeVcPrmGg3"
      },
      "source": [
        "# Print the numbers 0, 1, 2:\n",
        "for i in range(3):\n",
        "  print(i)\n",
        " \n",
        "# Print \"WARNING\" 3 times:\n",
        "for i in range(3):\n",
        "  print(\"WARNING\")"
      ],
      "execution_count": null,
      "outputs": []
    },
    {
      "cell_type": "code",
      "metadata": {
        "colab": {
          "base_uri": "https://localhost:8080/"
        },
        "id": "wOYvXcxgl-hU",
        "outputId": "ca8b65f0-2954-402e-a3e7-3b69bd0c50a7"
      },
      "source": [
        "# using start, end, and step\n",
        "for i in range(3,9,2):\n",
        "  print(i)"
      ],
      "execution_count": null,
      "outputs": [
        {
          "output_type": "stream",
          "name": "stdout",
          "text": [
            "3\n",
            "5\n",
            "7\n"
          ]
        }
      ]
    },
    {
      "cell_type": "markdown",
      "metadata": {
        "id": "KJQZsCsrmvdv"
      },
      "source": [
        "\n",
        "\n",
        "---\n",
        "\n",
        "# Loop Control Statements \n",
        "\n",
        "Loop control statements change execution from its normal sequence. When execution leaves a scope, all automatic objects that were created in that scope are destroyed. \n",
        "\n",
        "\n",
        "## `break` a loop\n",
        "\n",
        "`break` brings control out of the loop"
      ]
    },
    {
      "cell_type": "code",
      "metadata": {
        "colab": {
          "base_uri": "https://localhost:8080/"
        },
        "id": "E5M59Jmpm_hL",
        "outputId": "ff10b353-ec06-4b99-ff2b-ebf2e112703c"
      },
      "source": [
        "for num in range(1980, 2020, 4):\n",
        "  if (num > 2010):\n",
        "    print(\"2010 passed!\")\n",
        "    break\n",
        "  print(num)"
      ],
      "execution_count": null,
      "outputs": [
        {
          "output_type": "stream",
          "name": "stdout",
          "text": [
            "1980\n",
            "1984\n",
            "1988\n",
            "1992\n",
            "1996\n",
            "2000\n",
            "2004\n",
            "2008\n",
            "2010 passed!\n"
          ]
        }
      ]
    },
    {
      "cell_type": "markdown",
      "metadata": {
        "id": "uB3AEfyMndZ6"
      },
      "source": [
        "# Jump and `continue` to the next iteration\n",
        "\n",
        "`continue` returns the control to the beginning of the loop"
      ]
    },
    {
      "cell_type": "code",
      "metadata": {
        "colab": {
          "base_uri": "https://localhost:8080/"
        },
        "id": "FSsnhLROnlsT",
        "outputId": "dd89960e-1928-40c0-9ff9-8f8883e85075"
      },
      "source": [
        "for num in range(1980, 2020, 4):\n",
        "  if (num > 2010):\n",
        "    print(num, \"as 2010 passed, jumped iteration\")\n",
        "    continue\n",
        "  print(num,'normal iteration') # this will not be executed if continue"
      ],
      "execution_count": 2,
      "outputs": [
        {
          "output_type": "stream",
          "name": "stdout",
          "text": [
            "1980 normal iteration\n",
            "1984 normal iteration\n",
            "1988 normal iteration\n",
            "1992 normal iteration\n",
            "1996 normal iteration\n",
            "2000 normal iteration\n",
            "2004 normal iteration\n",
            "2008 normal iteration\n",
            "2012 as 2010 passed, jumped iteration\n",
            "2016 as 2010 passed, jumped iteration\n"
          ]
        }
      ]
    },
    {
      "cell_type": "markdown",
      "metadata": {
        "id": "847XM5nooVOb"
      },
      "source": [
        "\n",
        "\n",
        "---\n",
        "\n",
        "\n",
        "# `while` Loops\n",
        "\n",
        "`while` loop will repeatedly execute a code block as long as a condition evaluates to `True`"
      ]
    },
    {
      "cell_type": "code",
      "metadata": {
        "colab": {
          "base_uri": "https://localhost:8080/"
        },
        "id": "ZsrxgbDYpHuD",
        "outputId": "3efecfc2-f4f9-4ab2-a466-cfab7d4cfb0f"
      },
      "source": [
        "num = 1980\n",
        "while num < 2010:\n",
        "  print(num,'in while')\n",
        "  num += 4 # num = num +4"
      ],
      "execution_count": null,
      "outputs": [
        {
          "output_type": "stream",
          "name": "stdout",
          "text": [
            "1980 in while\n",
            "1984 in while\n",
            "1988 in while\n",
            "1992 in while\n",
            "1996 in while\n",
            "2000 in while\n",
            "2004 in while\n",
            "2008 in while\n"
          ]
        }
      ]
    },
    {
      "cell_type": "markdown",
      "metadata": {
        "id": "lbtYstvGqhX1"
      },
      "source": [
        "\n",
        "\n",
        "---\n",
        "\n",
        "\n",
        "# Nested Loops\n",
        "\n",
        "Loop inside a loop"
      ]
    },
    {
      "cell_type": "code",
      "metadata": {
        "colab": {
          "base_uri": "https://localhost:8080/"
        },
        "id": "EPVdzFNFqqh5",
        "outputId": "588bd328-8ec3-49f6-f4f9-8eec38ae4072"
      },
      "source": [
        "groups = [[\"Jobs\", \"Gates\"], [\"Newton\", \"Euclid\"], [\"Einstein\", \"Feynman\"]]\n",
        " \n",
        "# This outer loop will iterate over each list in the groups list\n",
        "for group in groups:\n",
        "  # This inner loop will go through each name in each list\n",
        "  for name in group:\n",
        "    print(name)"
      ],
      "execution_count": null,
      "outputs": [
        {
          "output_type": "stream",
          "name": "stdout",
          "text": [
            "Jobs\n",
            "Gates\n",
            "Newton\n",
            "Euclid\n",
            "Einstein\n",
            "Feynman\n"
          ]
        }
      ]
    },
    {
      "cell_type": "markdown",
      "metadata": {
        "id": "uWi9h4dRq_1c"
      },
      "source": [
        "\n",
        "\n",
        "---\n",
        "\n",
        "\n",
        "# Exercise 4.1\n",
        "\n",
        "- Create a list of all years divisible by 5 form 1923 to 2013\n",
        "- Write a loop to to print all years from that list except the years between 1949 to 1966"
      ]
    },
    {
      "cell_type": "code",
      "metadata": {
        "id": "h6doi_f4M-_m"
      },
      "source": [
        "# Write your code here\n",
        "\n",
        "\n",
        "\n"
      ],
      "execution_count": null,
      "outputs": []
    },
    {
      "cell_type": "markdown",
      "metadata": {
        "id": "-Vjr-hcMsPtr"
      },
      "source": [
        "\n",
        "\n",
        "---\n",
        "\n",
        "\n",
        "# List Comprehension \n",
        "\n",
        "- concise way for creating lists\n",
        "- structure: `[EXPRESSION for ITEM in LIST <if CONDITIONAL>]`\n"
      ]
    },
    {
      "cell_type": "markdown",
      "metadata": {
        "id": "u9f20HBVviuB"
      },
      "source": [
        "## Simple copy"
      ]
    },
    {
      "cell_type": "code",
      "metadata": {
        "colab": {
          "base_uri": "https://localhost:8080/"
        },
        "id": "OccjeQYDuqrn",
        "outputId": "223dd892-1e3f-4927-eead-2db455fd4a45"
      },
      "source": [
        "listofvar = [8, 11, 23, 17, 29, 33]\n",
        "new_list = [x for x in listofvar]\n",
        "print(new_list)"
      ],
      "execution_count": null,
      "outputs": [
        {
          "output_type": "stream",
          "name": "stdout",
          "text": [
            "[8, 11, 23, 17, 29, 33]\n"
          ]
        }
      ]
    },
    {
      "cell_type": "markdown",
      "metadata": {
        "id": "pKBbS5lJvnLx"
      },
      "source": [
        "## Conditional"
      ]
    },
    {
      "cell_type": "code",
      "metadata": {
        "colab": {
          "base_uri": "https://localhost:8080/"
        },
        "id": "66q9bQPEvLlU",
        "outputId": "fff2169c-42e5-4ba9-a1c0-f748f7e3aff4"
      },
      "source": [
        "listofvar = [8, 11, 23, 17, 29, 33]\n",
        "new_list = [x for x in listofvar if x > 20]\n",
        "print(new_list)"
      ],
      "execution_count": null,
      "outputs": [
        {
          "output_type": "stream",
          "name": "stdout",
          "text": [
            "[23, 29, 33]\n"
          ]
        }
      ]
    },
    {
      "cell_type": "markdown",
      "metadata": {
        "id": "bGhr2cefvr6r"
      },
      "source": [
        "## Operational"
      ]
    },
    {
      "cell_type": "code",
      "metadata": {
        "colab": {
          "base_uri": "https://localhost:8080/"
        },
        "id": "UoLU1GtevcKf",
        "outputId": "1f9a56ad-164a-4319-ec7c-e0f634ce1efa"
      },
      "source": [
        "listofvar = [8, 11, 23, 17, 29, 33]\n",
        "new_list = [x**2 for x in listofvar if x > 20]\n",
        "print(new_list)"
      ],
      "execution_count": null,
      "outputs": [
        {
          "output_type": "stream",
          "name": "stdout",
          "text": [
            "[529, 841, 1089]\n"
          ]
        }
      ]
    },
    {
      "cell_type": "markdown",
      "metadata": {
        "id": "cMIhi9-rwofp"
      },
      "source": [
        "\n",
        "\n",
        "---\n",
        "\n",
        "\n",
        "# Exercise 4.2\n",
        "\n",
        "We have a list:\n",
        "\n",
        "```\n",
        "numbers = [34.6, -203.4, 44.9, 68.3, -12.2, 44.6, 12.7]\n",
        "```\n",
        "Using a list comprehension, create a new list called \"newlist\" out of the list \"numbers\", which contains only the positive numbers from the list, as integers."
      ]
    },
    {
      "cell_type": "code",
      "metadata": {
        "id": "CHGQhy80NBQ3"
      },
      "source": [
        "# Write your code here\n",
        "\n",
        "\n",
        "\n",
        "\n"
      ],
      "execution_count": null,
      "outputs": []
    },
    {
      "cell_type": "markdown",
      "metadata": {
        "id": "ul11EJH0CDRE"
      },
      "source": [
        "# Exercise 4.3 (asignment)\n",
        "- Create a mixed list of integers and strings with more tha 4 items\n",
        "- Then create a list of only the integers from it.\n",
        "- Then calculate the **sum**."
      ]
    },
    {
      "cell_type": "code",
      "metadata": {
        "id": "3627eDRxCHpR"
      },
      "source": [
        "# Write your code here\n",
        "\n",
        "\n",
        "\n"
      ],
      "execution_count": null,
      "outputs": []
    }
  ]
}